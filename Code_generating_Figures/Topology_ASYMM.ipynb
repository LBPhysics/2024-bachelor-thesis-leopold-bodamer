{
 "cells": [
  {
   "metadata": {
    "ExecuteTime": {
     "end_time": "2024-10-16T10:46:53.758362Z",
     "start_time": "2024-10-16T10:46:51.225112Z"
    }
   },
   "cell_type": "code",
   "source": [
    "import numpy as np\n",
    "import matplotlib.pyplot as plt\n",
    "from qutip import *\n",
    "import os\n",
    "\n",
    "# Matplotlib Einstellungen gemäß den LaTeX-Caption-Formatierungen\n",
    "plt.rcParams.update({\n",
    "    'text.usetex': True,              # Enable LaTeX for text rendering\n",
    "    'text.latex.preamble': r'\\usepackage{amsmath}',\n",
    "    'font.family': 'serif',           # Use a serif font family\n",
    "    'font.serif': 'Palatino',         # Set Palatino as the serif font\n",
    "    'font.size': 20,                   # Font size for general text\n",
    "    'axes.titlesize': 20,              # Font size for axis titles\n",
    "    'axes.labelsize': 20,              # Font size for axis labels\n",
    "    'xtick.labelsize': 20,             # Font size for x-axis tick labels\n",
    "    'ytick.labelsize': 20,             # Font size for y-axis tick labels\n",
    "    'legend.fontsize': 20,             # Font size for legends\n",
    "    'figure.figsize': [8, 6],          # Size of the plot (width x height)\n",
    "    'figure.autolayout': True,         # Automatic layout adjustment\n",
    "    'savefig.format': 'svg',           # Default format for saving figures\n",
    "    'figure.facecolor': 'none',        # Make the figure face color transparent\n",
    "    'axes.facecolor': 'none',          # Make the axes face color transparent\n",
    "    'savefig.transparent': True        # Save figures with transparent background\n",
    "})\n",
    "\n",
    "output_dir = r\"C:\\Users\\leopo\\OneDrive - UT Cloud\\Uni\\Semester_8\\BA_mit_Git\\BA_Latex\\Figures_From_Python\"\n",
    "os.makedirs(output_dir, exist_ok=True)\n",
    "name = 'ASYMM_TOPO'\n",
    "########################################                 Define constants                   #############################################\n",
    "fixed_lam = 1\n",
    "fixed_gamma = 1\n",
    "fixed_dist_ext = 0.1 * fixed_lam\n",
    "k_a = 2 * np.pi / fixed_lam"
   ],
   "id": "6851f87a8a4df648",
   "outputs": [],
   "execution_count": 1
  },
  {
   "metadata": {},
   "cell_type": "code",
   "outputs": [],
   "execution_count": null,
   "source": "",
   "id": "4d646bedeecb2072"
  },
  {
   "metadata": {
    "ExecuteTime": {
     "end_time": "2024-10-03T20:11:52.689896Z",
     "start_time": "2024-10-03T20:11:52.507727Z"
    }
   },
   "cell_type": "code",
   "source": [
    "######################################################### Functions #########################################################\n",
    "def dipole_vector(phi):\n",
    "    return np.array([np.cos(phi), np.sin(phi), 0])\n",
    "\n",
    "def z_rotation(angle):\n",
    "    return np.array([[np.cos(angle), -np.sin(angle), 0],\n",
    "                     [np.sin(angle),  np.cos(angle), 0],\n",
    "                     [0,              0,             1]])\n",
    "\n",
    "def chain_positions(distance, N_atoms):\n",
    "    Pos = np.zeros((N_atoms, 3))\n",
    "    for i in range(N_atoms):\n",
    "        Pos[i, 0] = i * distance\n",
    "    return Pos\n",
    "\n",
    "def topo_positions_only_1_inner(distance_in, N_atoms):\n",
    "    if distance_in >= 2 * fixed_dist_ext:\n",
    "        distance_in = 2 * fixed_dist_ext - 1e-5\n",
    "    Pos = np.zeros((N_atoms, 3))\n",
    "    N_chain = N_atoms // 3\n",
    "    height = np.sqrt(fixed_dist_ext**2 - (distance_in / 2)**2)\n",
    "    r_in = (2 * fixed_dist_ext * distance_in - distance_in**2)/(4*height)\n",
    "    MB = np.sqrt(r_in**2 + (distance_in / 2)**2)\n",
    "    angle = np.arccos(((r_in) / MB))\n",
    "    A = np.array([height - r_in, 0, 0])\n",
    "    B = np.array([r_in, distance_in/2, 0])\n",
    "    C = np.array([r_in, -distance_in/2, 0])\n",
    "    Chain = chain_positions(fixed_dist_ext, N_chain)\n",
    "    Pos[:N_chain] = np.dot(Chain + A, z_rotation(np.pi).T)\n",
    "    Pos = Pos[Pos[:, 0].argsort()]\n",
    "    Pos[N_chain:2*N_chain] = np.dot(Chain, z_rotation(angle).T) + B\n",
    "    Pos[2*N_chain:] = np.dot(Chain, z_rotation(-angle).T) + C\n",
    "    return Pos\n",
    "\n",
    "def Green_tensor(r_a, r_b):\n",
    "    r_ab = r_b - r_a\n",
    "    abs_r_ab = np.linalg.norm(r_ab)\n",
    "    kappa = k_a * abs_r_ab\n",
    "    return (np.exp(1j * kappa) / (4 * np.pi * kappa ** 2 * abs_r_ab)\n",
    "                    * ((kappa ** 2 + 1j * kappa - 1) * np.eye(3)\n",
    "                       + (- kappa ** 2 - 3 * 1j * kappa + 3)\n",
    "                       * np.outer(r_ab, r_ab) / (abs_r_ab ** 2)))\n",
    "\n",
    "def Gamma_matrix(dipoles, N_atoms):\n",
    "    G_matrix = np.zeros((N_atoms, N_atoms), dtype=complex)\n",
    "    for a in range(N_atoms):\n",
    "        for b in range(N_atoms):\n",
    "            r_a, r_b = pos[a], pos[b]\n",
    "            G_matrix[a, b] = fixed_gamma\n",
    "            if np.linalg.norm(r_b - r_a) > 1e-5:\n",
    "                d_a, d_b = dipoles[a], dipoles[b]\n",
    "                G_matrix[a, b] = np.imag((6 * np.pi * fixed_gamma / k_a * np.matmul(np.conj(d_a), np.matmul(Green_tensor(r_a, r_b), d_b.T))))\n",
    "    return G_matrix\n",
    "\n",
    "def V_matrix(dipoles, N_atoms):\n",
    "    V_matrix = np.zeros((N_atoms, N_atoms), dtype=complex)\n",
    "    for a in range(N_atoms):\n",
    "        for b in range(N_atoms):\n",
    "            r_a, r_b = pos[a], pos[b]\n",
    "            V_matrix[a, b] = 0\n",
    "            if np.linalg.norm(r_b - r_a) > 1e-5:\n",
    "                d_a, d_b = dipoles[a], dipoles[b]\n",
    "                V_matrix[a, b] = - np.real((3 * np.pi * fixed_gamma / k_a * np.matmul(np.conj(d_a), np.matmul(Green_tensor(r_a, r_b), d_b.T))))\n",
    "    return V_matrix\n",
    "\n",
    "def H_eff(dipoles):\n",
    "    G = Gamma_matrix(dipoles, N_atoms)\n",
    "    V = V_matrix(dipoles, N_atoms)\n",
    "    # Generate connections based on the updated rules\n",
    "    return Qobj(V) - 1j / 2 * Qobj(G)\n",
    "\n",
    "def survival_probabilities(times, dipoles, Psi_0, N_atoms):\n",
    "    H = H_eff(dipoles)\n",
    "    coeffs_sq_mods  = np.zeros((len(times), N_atoms))\n",
    "    P_surs  = np.zeros(len(times))\n",
    "    for t_idx, t in enumerate(times):\n",
    "        U = (-1j * H * t).expm()\n",
    "        Psi_t = (U * Psi_0).full().flatten()\n",
    "        Probs = np.abs(Psi_t)**2\n",
    "        coeffs_sq_mods[t_idx, :] = Probs\n",
    "        P_surs[t_idx] = Probs.sum()\n",
    "    return coeffs_sq_mods, P_surs\n",
    "\n",
    "def k_wave_packet(N_atoms):\n",
    "    coefficients = np.exp(- (k_values - k_s) ** 2 / (4 * sigma_k ** 2))\n",
    "    coefficients = coefficients / np.linalg.norm(coefficients)\n",
    "    wave_packet_k = np.zeros(N_atoms, dtype=complex)\n",
    "    \n",
    "    for k, a_k in enumerate(coefficients):\n",
    "        wave_packet_k += a_k * FT[:, k]\n",
    "\n",
    "    wave_packet_k = wave_packet_k / np.linalg.norm(wave_packet_k)\n",
    "\n",
    "    return wave_packet_k, coefficients\n",
    "\n",
    "def real_space_wave_packet(N_atoms):\n",
    "    coefficients = np.exp(- (k_values - k_s) ** 2 / (4 * sigma_k ** 2))\n",
    "\n",
    "    # Do a phase shift to move the wavepacket in real space\n",
    "    phase_shift = np.exp(1j * np.linspace(0, 2 * np.pi, N_atoms) * c * N_atoms)\n",
    "    coefficients = coefficients * phase_shift\n",
    "\n",
    "    wave_packet_real = np.zeros(N_atoms, dtype=complex)\n",
    "    for alpha in range(N_atoms):\n",
    "        a_alpha = 0\n",
    "        for k, a_k in enumerate(coefficients):\n",
    "            a_alpha += a_k * np.dot(np.eye(1, N_atoms, alpha, dtype=int).flatten(), FT[:,k])\n",
    "        wave_packet_real[alpha] = a_alpha\n",
    "    wave_packet_real = wave_packet_real / np.linalg.norm(wave_packet_real)\n",
    "            \n",
    "    return wave_packet_real\n",
    "\n",
    "#\n",
    "# PLOT THE Matrices in REAL and k space\n",
    "#\n",
    "def PLOT_REAL_and_K_MATRICES():\n",
    "    plt.figure()\n",
    "    im = plt.imshow(np.real(V), cmap='coolwarm', aspect='auto')\n",
    "    max_value = np.max(np.real(V))\n",
    "    min_value = np.min(np.real(V))\n",
    "    \n",
    "    cbar = plt.colorbar(im, label=r'$ V_{\\alpha \\beta} $')\n",
    "    cbar.set_ticks([min_value, 0, max_value])\n",
    "    cbar.set_ticklabels([f'{np.real(min_value):.1f}', '0', f'{np.real(max_value):.0f}'])\n",
    "    \n",
    "    plt.xlabel(r'$ \\alpha $')\n",
    "    plt.ylabel(r'$ \\beta $')\n",
    "    \n",
    "    plt.xticks([0, N_atoms // 3, 2 * N_atoms // 3, N_atoms - 1])\n",
    "    plt.yticks([0, N_atoms // 3, 2 * N_atoms // 3, N_atoms - 1])\n",
    "    plt.gca().set_xticklabels([r'1', f'{N_atoms//3}', f'{2*N_atoms//3}', f'{N_atoms}'])\n",
    "    plt.gca().set_yticklabels([r'1', f'{N_atoms//3}', f'{2*N_atoms//3}', f'{N_atoms}'])\n",
    "    \n",
    "    # Save the figure\n",
    "    figure_name = name + f\"_V_real_space_N={N_atoms}_angle={optimal_angle:.2f}_d_ext={fixed_dist_ext:.4f}_d_in={optimal_distance_in:.4f}.svg\"\n",
    "    if save_figs:\n",
    "        plt.savefig(os.path.join(output_dir, figure_name))\n",
    "\n",
    "    plt.show()\n",
    "    \n",
    "    plt.figure()\n",
    "    im = plt.imshow(np.real(almost_D_V), cmap='coolwarm', aspect='auto')\n",
    "    max_value = np.max(np.real(almost_D_V))\n",
    "    min_value = np.min(np.real(almost_D_V))\n",
    "    \n",
    "    cbar = plt.colorbar(im, label=r'$ V_{k k^\\prime} $')\n",
    "    cbar.set_ticks([min_value, 0, max_value])\n",
    "    cbar.set_ticklabels([f'{np.real(min_value):.1f}', '0', f'{np.real(max_value):.0f}'])\n",
    "    \n",
    "    plt.xticks([0, N_atoms // 3, 2 * N_atoms // 3, N_atoms - 1])\n",
    "    plt.yticks([0, N_atoms // 3, 2 * N_atoms // 3, N_atoms - 1])\n",
    "    plt.gca().set_xticklabels([r'1', f'{N_atoms//3}', f'{2*N_atoms//3}', f'{N_atoms}'])\n",
    "    plt.gca().set_yticklabels([r'1', f'{N_atoms//3}', f'{2*N_atoms//3}', f'{N_atoms}'])\n",
    "    \n",
    "    plt.ylabel(r'$k$')\n",
    "    plt.xlabel(r'$k^\\prime$')\n",
    "    \n",
    "    # Save the figure\n",
    "    figure_name = name + f\"_V_momentum_space_N={N_atoms}_angle={optimal_angle:.2f}_d_ext={fixed_dist_ext:.4f}_d_in={optimal_distance_in:.4f}.svg\"\n",
    "    if save_figs:\n",
    "        plt.savefig(os.path.join(output_dir, figure_name))\n",
    "\n",
    "    plt.show()\n",
    "    \n",
    "    # Plot the G matrix (real space)\n",
    "    plt.figure()\n",
    "    im = plt.imshow(np.real(G), cmap='coolwarm', aspect='auto')\n",
    "    max_value = np.max(np.real(G))\n",
    "    min_value = np.min(np.real(G))\n",
    "    \n",
    "    cbar = plt.colorbar(im, label=r'$ G_{\\alpha \\beta} $')\n",
    "    cbar.set_ticks([min_value, 0, max_value])\n",
    "    cbar.set_ticklabels([f'{np.real(min_value):.1f}', '0', f'{np.real(max_value):.0f}'])\n",
    "    \n",
    "    plt.xlabel(r'$ \\alpha $')\n",
    "    plt.ylabel(r'$ \\beta $')\n",
    "    \n",
    "    plt.xticks([0, N_atoms // 3, 2 * N_atoms // 3, N_atoms - 1])\n",
    "    plt.yticks([0, N_atoms // 3, 2 * N_atoms // 3, N_atoms - 1])\n",
    "    plt.gca().set_xticklabels([r'1', f'{N_atoms//3}', f'{2*N_atoms//3}', f'{N_atoms}'])\n",
    "    plt.gca().set_yticklabels([r'1', f'{N_atoms//3}', f'{2*N_atoms//3}', f'{N_atoms}'])\n",
    "    \n",
    "    # Save the figure\n",
    "    figure_name = name + f\"_G_real_space_N={N_atoms}_angle={optimal_angle:.2f}_d_ext={fixed_dist_ext:.4f}_d_in={optimal_distance_in:.4f}.svg\"\n",
    "    if save_figs:\n",
    "        plt.savefig(os.path.join(output_dir, figure_name))\n",
    "\n",
    "    plt.show()\n",
    "    \n",
    "    # Compute almost_D_G matrix (momentum space for G matrix)\n",
    "    plt.figure()\n",
    "    im = plt.imshow(np.real(almost_D_G), cmap='coolwarm', aspect='auto')\n",
    "    max_value = np.max(np.real(almost_D_G))\n",
    "    min_value = np.min(np.real(almost_D_G))\n",
    "    \n",
    "    cbar = plt.colorbar(im, label=r'$ G_{k k^\\prime} $')\n",
    "    cbar.set_ticks([min_value, 0, max_value])\n",
    "    cbar.set_ticklabels([f'{np.real(min_value):.1f}', '0', f'{np.real(max_value):.0f}'])\n",
    "    \n",
    "    plt.xticks([0, N_atoms // 3, 2 * N_atoms // 3, N_atoms - 1])\n",
    "    plt.yticks([0, N_atoms // 3, 2 * N_atoms // 3, N_atoms - 1])\n",
    "    plt.gca().set_xticklabels([r'1', f'{N_atoms//3}', f'{2*N_atoms//3}', f'{N_atoms}'])\n",
    "    plt.gca().set_yticklabels([r'1', f'{N_atoms//3}', f'{2*N_atoms//3}', f'{N_atoms}'])\n",
    "    \n",
    "    plt.ylabel(r'$k$')\n",
    "    plt.xlabel(r'$k^\\prime$')\n",
    "    \n",
    "    # Save the figure\n",
    "    figure_name = name + f\"_G_momentum_space_N={N_atoms}_angle={optimal_angle:.2f}_d_ext={fixed_dist_ext:.4f}_d_in={optimal_distance_in:.4f}.svg\"\n",
    "    if save_figs:\n",
    "        plt.savefig(os.path.join(output_dir, figure_name))\n",
    "\n",
    "    plt.show()\n",
    "    \n",
    "#\n",
    "# PLOT THE SPECTRUK in k space, WAVEPACKET IN k & REAL spcae \n",
    "#\n",
    "def Plot_SPECTRUM_and_PSI_0():\n",
    "    _, psik = k_wave_packet(N_atoms)\n",
    "    norm_squared = np.abs(psik.flatten()) ** 2\n",
    "\n",
    "    fig, ax1 = plt.subplots(figsize=(8, 4))\n",
    "    ax1.scatter(k_values, eigenvalues_V, label=r'$ V_k $', color='#1f77b4', s=30, marker='o', alpha=0.8, edgecolor='#0177C9', linewidth=1.5) # Spectrum\n",
    "    ax1.scatter(k_values, eigenvalues_G, label=r'$ \\Gamma_k $', color='#ff7f0e', s=30, marker='o', alpha=0.8, edgecolor='#FF7F02', linewidth=1.5)  # Decay modes\n",
    "    ax1.axvline(k_s, linestyle='--', alpha=0.25, color='black')                           # center of the wavepacket in P space\n",
    "\n",
    "    # Determine the range of p values within p(k_s) ± 2*sigma_k\n",
    "    from scipy.stats import linregress  # Import linear regression function\n",
    "    k_range_indices = (k_values >= (k_s - 2 * sigma_k)) & (k_values <= (k_s + 2 * sigma_k))\n",
    "    k_values_range = k_values[k_range_indices]\n",
    "    V_values_range = eigenvalues_V[k_range_indices]\n",
    "    # for plotting\n",
    "    k_range_indices_plot = (k_values >= (k_s - 10 * sigma_k)) & (k_values <= (k_s + 10 * sigma_k))\n",
    "    k_values_range_plot = k_values[k_range_indices_plot]\n",
    "    # Fit a line through these V values\n",
    "    slope, intercept, _, _, _ = linregress(k_values_range, V_values_range)\n",
    "    print(\"The slope v_g is\", slope)\n",
    "    fitted_line_short = slope * k_values_range + intercept\n",
    "    fitted_line = slope * k_values_range_plot + intercept\n",
    "    ax1.plot(k_values_range_plot, fitted_line, color='red', linestyle='-', linewidth=2)\n",
    "    ax1.plot(k_values_range[0], fitted_line_short[0], marker='|', color='red', markersize=10, markeredgewidth=2)\n",
    "    ax1.plot(k_values_range[-1], fitted_line_short[-1], marker='|', color='red', markersize=10, markeredgewidth=2)\n",
    "\n",
    "    ax2 = ax1.twinx()\n",
    "    ax2.plot(k_values, norm_squared, color='#2ca02c', linewidth=2.5, label=r'$ |\\psi_k(0)|^2 $')     # P Space Wave packet\n",
    "    ax2.annotate(r'$k_\\text{s}$', xy=(k_s, 1.2 * np.max(norm_squared)), ha='left', va='center')\n",
    "\n",
    "    # legends\n",
    "    ax1.set_xlabel(r'$k$')\n",
    "    ax1.set_ylabel(r'$\\text{E}/ \\gamma$') # Eigenvalues\n",
    "    ax2.set_ylabel(r'$|c_k|^2$')\n",
    "    ax1.legend(loc='best')\n",
    "    ax2.legend(loc='lower left')\n",
    "\n",
    "    # lims, ticks\n",
    "    y1_min = min(np.min(eigenvalues_V), np.min(eigenvalues_G))\n",
    "    y1_max = max(np.max(eigenvalues_V), np.max(eigenvalues_G))\n",
    "    ax1.set_ylim([round(y1_min, 0), round(y1_max, 0)])\n",
    "    ax1.set_yticks([round(y1_min, 0), 0, round(y1_max, 0)])\n",
    "\n",
    "    ax1.set_xlim(k_values[0], k_values[-1])\n",
    "    xticks = [round(k_values[0], 1), 0, round(k_values[-1], 1)]\n",
    "    sorted_by_closeness_to_one = sorted(range(len(eigenvalues_G)), key=lambda i: abs(eigenvalues_G[i] - 1))\n",
    "    closest_two_indices = sorted_by_closeness_to_one[:2]  # Indices of the two eigenvalues closest to 1\n",
    "    closest_two_k_values = [k_values[closest_two_indices[0]], k_values[closest_two_indices[1]]]\n",
    "    xticks += [round(closest_two_k_values[0], 2), round(closest_two_k_values[1], 2)]  # Adding the two ticks, where G ~ 1\n",
    "    xticks = sorted(xticks)\n",
    "    ax1.set_xticklabels([r'$-\\pi / d_{\\text{ext}}$', 'b', 0, 'b', r'$\\pi / d_{\\text{ext}}$'])\n",
    "    ax1.set_xticks(xticks)\n",
    "\n",
    "    ax2.set_ylim(0, round(2 * np.max(norm_squared), 1))\n",
    "    ax2.set_yticks([round(0, 0), round(2 * np.max(norm_squared), 1)])\n",
    "    ax2.set_yticklabels([0, round(2 * np.max(norm_squared), 1)])\n",
    "    \n",
    "    # safe\n",
    "    plt.tight_layout()\n",
    "    figure_name = name + f\"_P_SPACE_N={N_atoms}_angle={optimal_angle:.2f}_dist_ext=dist_in={fixed_dist_ext:.2f}_sigma_k={sigma_k/(np.pi / fixed_dist_ext):.3f}_k_s={k_s/(np.pi / fixed_dist_ext):.3f}.svg\"    # Save The figure\n",
    "    if save_figs:\n",
    "        plt.savefig(os.path.join(output_dir, figure_name))\n",
    "\n",
    "    plt.show()\n",
    "\n",
    "\n",
    "    # NOW IN REAL SPACE\n",
    "    psix = real_space_wave_packet(N_atoms)\n",
    "    print(np.linalg.norm(psix))\n",
    "    norm_squared = np.abs(psix.flatten()) ** 2\n",
    "    alphas = np.arange(N_atoms)\n",
    "\n",
    "    plt.figure(figsize=(4,2))\n",
    "    plt.plot(alphas, norm_squared, color='#2ca02c', linewidth=2.5, label=r'$ |\\psi_x(0)|^2 $')\n",
    "\n",
    "    # lims, ticks\n",
    "    plt.xlabel(r'$ \\alpha $')\n",
    "    plt.ylabel('Amp')\n",
    "    plt.ylim(0, 2 * np.max(norm_squared)) # → When plotting the |_|^2\n",
    "    plt.xlim(0, N_atoms) # → When plotting the |_|^2\n",
    "    plt.yticks([round(0, 0), round(2 * np.max(norm_squared), 1)])\n",
    "    plt.xticks([0, N_atoms//3, 2*N_atoms//3, N_atoms])\n",
    "\n",
    "    # safe\n",
    "    plt.tight_layout()\n",
    "#    plt.title('REAL - SPACE')\n",
    "    ax1.legend(loc='best')\n",
    "    figure_name = name + f\"_REAL_SPACE_N={N_atoms}_angle={optimal_angle:.2f}_dist_ext=dist_in={fixed_dist_ext:.2f}_sigma_k={sigma_k/(np.pi / fixed_dist_ext):.3f}_k_s={k_s/(np.pi / fixed_dist_ext):.3f}.svg\"    # Save The figure\n",
    "    if save_figs:\n",
    "        plt.savefig(os.path.join(output_dir, figure_name))\n",
    "\n",
    "    plt.show()\n",
    "\n",
    "\n",
    "def PLOT_REAL_EVO():\n",
    "    fig, (ax1, ax2) = plt.subplots(2, 1, sharex=True, gridspec_kw={'height_ratios': [3, 1]}, constrained_layout=True, figsize=(4, 4))\n",
    "\n",
    "    im = ax1.imshow(y1.T, aspect='auto', origin='lower', cmap='coolwarm', extent=[0, t_max, 0, N_atoms])\n",
    "    ax1.set_yticks([0, N_atoms//3, 2*N_atoms//3, N_atoms])\n",
    "    ax1.set_yticklabels([1, N_atoms//3+1, 2*N_atoms//3+1, N_atoms])\n",
    "    ax2.plot(times, y2, color='green', linewidth=2.5, label='collective')\n",
    "    ax2.plot(times, np.exp(-times), 'r--', linewidth=2.5, label='1 atom')\n",
    "\n",
    "    sum_l = np.sum(y1[:, 0:N_atoms//3+1], axis=1)\n",
    "    sum_u = np.sum(y1[:, N_atoms//3+1:2*N_atoms//3+1], axis=1)\n",
    "\n",
    "    ax2.plot(times, sum_l, label=r'$\\text{left}$', color='#0177C9', linewidth=2)\n",
    "    ax2.plot(times, sum_u, label=r'$\\text{up}$', color='#FF7F02', linewidth=2)\n",
    "\n",
    "    max_value = np.max(y1)\n",
    "    cbar = fig.colorbar(im, ax=ax1, label=r'$ \\vert c_{\\alpha}(t)\\vert ^2$')\n",
    "    cbar.set_ticks([0, max_value])\n",
    "    cbar.set_ticklabels([r'0', f'{max_value:.1f}'])\n",
    "\n",
    "    ax2.set_ylim(0, 1.01)\n",
    "    ax2.set_xticks([0, round(t_max/4), round(t_max/2), round(3* t_max/4), t_max])\n",
    "    ax2.set_xticklabels(['0', f'{round(t_max/4)}', f'{round(t_max/2)}', f'{round(3*t_max/4)}', f'{round(t_max)}'])\n",
    "    ax2.set_yticks([0, y2[-1], 1])\n",
    "    ax2.set_yticklabels(['0', f'{y2[-1]:.2f}', '1'])\n",
    "    ax1.set_ylabel(r'$\\alpha$')\n",
    "    ax2.set_xlabel(r'$\\gamma t$')\n",
    "    ax2.set_ylabel(r'$P_{\\text{sur}}$')\n",
    "\n",
    "    figure_name = name + f\"_Evolution_N={N_atoms}_angle={optimal_angle:.2f}_dist_ext={fixed_dist_ext:.2f}_dist_in={optimal_distance_in:.2f}_sigma_k={sigma_k/(np.pi / fixed_dist_ext):.3f}_k_s={k_s/(np.pi / fixed_dist_ext):.3f}.svg\"\n",
    "    if save_figs:\n",
    "        plt.savefig(os.path.join(output_dir, figure_name))\n",
    "\n",
    "    plt.show()\n",
    "'''    \n",
    "    # Plot atoms with their dipole moments in the seperate plot\n",
    "    plt.figure()\n",
    "    plt.scatter(pos[:, 0], pos[:, 1], color='blue', s=50, label='Atoms')\n",
    "    for i in range(N_atoms):\n",
    "        plt.arrow(pos[i, 0], pos[i, 1], dipoles[i][0], dipoles[i][1])\n",
    "    plt.title('Atom Positions and Dipole Moments')\n",
    "    plt.xlabel('x / $\\lambda$')\n",
    "    plt.ylabel('y / $\\lambda$')\n",
    "    figure_name = name + f\"Atom_Dipole_Pos_N={N_atoms}_angle={optimal_angle:.2f}_dist_ext={fixed_dist_ext:.2f}_dist_in={optimal_distance_in:.2f}_sigma_k={sigma_k/(np.pi / fixed_dist_ext):.3f}_k_s={k_s/(np.pi / fixed_dist_ext):.3f}.svg\"\n",
    "    if save_figs:\n",
    "            plt.savefig(os.path.join(output_dir, figure_name))\n",
    "    \n",
    "    plt.axis('equal')\n",
    "    plt.show()\n",
    "    print(y2[-1])'''"
   ],
   "id": "7a8ccd8b-9d55-4c86-86c1-98886873e15c",
   "outputs": [
    {
     "data": {
      "text/plain": [
       "'    \\n    # Plot atoms with their dipole moments in the seperate plot\\n    plt.figure()\\n    plt.scatter(pos[:, 0], pos[:, 1], color=\\'blue\\', s=50, label=\\'Atoms\\')\\n    for i in range(N_atoms):\\n        plt.arrow(pos[i, 0], pos[i, 1], dipoles[i][0], dipoles[i][1])\\n    plt.title(\\'Atom Positions and Dipole Moments\\')\\n    plt.xlabel(\\'x / $\\\\lambda$\\')\\n    plt.ylabel(\\'y / $\\\\lambda$\\')\\n    figure_name = name + f\"Atom_Dipole_Pos_N={N_atoms}_angle={optimal_angle:.2f}_dist_ext={fixed_dist_ext:.2f}_dist_in={optimal_distance_in:.2f}_sigma_k={sigma_k/(np.pi / fixed_dist_ext):.3f}_k_s={k_s/(np.pi / fixed_dist_ext):.3f}.svg\"\\n    if save_figs:\\n            plt.savefig(os.path.join(output_dir, figure_name))\\n    \\n    plt.axis(\\'equal\\')\\n    plt.show()\\n    print(y2[-1])'"
      ]
     },
     "execution_count": 45,
     "metadata": {},
     "output_type": "execute_result"
    }
   ],
   "execution_count": 45
  },
  {
   "metadata": {
    "ExecuteTime": {
     "end_time": "2024-10-03T20:11:52.921976Z",
     "start_time": "2024-10-03T20:11:52.906571Z"
    }
   },
   "cell_type": "code",
   "source": [
    "# THOSE determine the Shape of V_k, G_k \n",
    "N_atoms = 300\n",
    "optimal_angle = 0.5531404633211924 # 0.502882171858528 # \n",
    "optimal_distance_in = 0.09252525252525252 # 0.1 # \n",
    "dipoles = [dipole_vector(optimal_angle) for _ in range(N_atoms)]\n",
    "k_values = np.linspace(- np.pi/fixed_dist_ext, np.pi/fixed_dist_ext, N_atoms)\n",
    "# Construct the Fourier Transform matrix\n",
    "pos = topo_positions_only_1_inner(optimal_distance_in, N_atoms)"
   ],
   "id": "5ff18af290e3eb96",
   "outputs": [],
   "execution_count": 46
  },
  {
   "metadata": {
    "ExecuteTime": {
     "end_time": "2024-10-03T20:11:59.606435Z",
     "start_time": "2024-10-03T20:11:54.542397Z"
    }
   },
   "cell_type": "code",
   "source": [
    "# Only initialize on the first Chain\n",
    "N_atoms = N_atoms//3\n",
    "dipoles = dipoles[:N_atoms]\n",
    "pos = pos[:N_atoms]\n",
    "    \n",
    "k_values = np.linspace(- np.pi/fixed_dist_ext, np.pi/fixed_dist_ext, N_atoms)\n",
    "FT = np.zeros((N_atoms, N_atoms), dtype=complex)\n",
    "for alpha in range(N_atoms):\n",
    "    FT[alpha, :] = np.exp(-1j * k_values * np.linalg.norm(pos[alpha]))\n",
    "    FT[alpha, :] = FT[alpha, :]/ np.linalg.norm(FT[alpha, :])\n",
    "\n",
    "# THOSE determine the Shape of V_k, G_k \n",
    "V = V_matrix(dipoles, N_atoms)\n",
    "G = Gamma_matrix(dipoles, N_atoms)\n",
    "\n",
    "almost_D_V = np.conjugate(FT.T) @ V @ FT\n",
    "diagonal_entries_V = np.real(np.diag(almost_D_V))\n",
    "almost_D_G = np.conjugate(FT.T) @ G @ FT\n",
    "diagonal_entries_G = np.real(np.diag(almost_D_G))\n",
    "\n",
    "eigenvalues_V = diagonal_entries_V\n",
    "eigenvalues_G = diagonal_entries_G"
   ],
   "id": "88aa9890a5260186",
   "outputs": [],
   "execution_count": 47
  },
  {
   "metadata": {
    "ExecuteTime": {
     "end_time": "2024-10-03T20:12:01.860197Z",
     "start_time": "2024-10-03T20:12:01.843675Z"
    }
   },
   "cell_type": "code",
   "source": "save_figs = False",
   "id": "932fc36986995197",
   "outputs": [],
   "execution_count": 48
  },
  {
   "metadata": {
    "ExecuteTime": {
     "end_time": "2024-10-03T20:12:03.525197Z",
     "start_time": "2024-10-03T20:12:02.085889Z"
    }
   },
   "cell_type": "code",
   "source": [
    "#PLOT_REAL_and_K_MATRICES()\n",
    "\n",
    "# PLOT\n",
    "k_s = k_values[-round(N_atoms/3.5)]\n",
    "print(k_s / (np.pi / fixed_dist_ext))\n",
    "sigma_k = 0.02 * np.pi / fixed_dist_ext\n",
    "c = 1/2# center of psi_x: 0 <= c <= 1\n",
    "\n",
    "Plot_SPECTRUM_and_PSI_0()"
   ],
   "id": "bdf2d9d63f04b84",
   "outputs": [
    {
     "name": "stdout",
     "output_type": "stream",
     "text": [
      "0.43434343434343436\n",
      "The slope v_g is 0.8374042507322804\n"
     ]
    },
    {
     "name": "stderr",
     "output_type": "stream",
     "text": [
      "C:\\Users\\leopo\\AppData\\Local\\Temp\\ipykernel_14604\\2746838409.py:268: UserWarning: set_ticklabels() should only be used with a fixed number of ticks, i.e. after set_ticks() or using a FixedLocator.\n",
      "  ax1.set_xticklabels([r'$-\\pi / d_{\\text{ext}}$', 'b', 0, 'b', r'$\\pi / d_{\\text{ext}}$'])\n"
     ]
    },
    {
     "data": {
      "text/plain": [
       "<Figure size 800x400 with 2 Axes>"
      ],
      "image/png": "[encoded data removed]"
     },
     "metadata": {
      "needs_background": "light"
     },
     "output_type": "display_data"
    },
    {
     "name": "stdout",
     "output_type": "stream",
     "text": [
      "0.9999999999999998\n"
     ]
    },
    {
     "data": {
      "text/plain": [
       "<Figure size 400x200 with 1 Axes>"
      ],
      "image/png": "[encoded data removed]"
     },
     "metadata": {
      "needs_background": "light"
     },
     "output_type": "display_data"
    }
   ],
   "execution_count": 49
  },
  {
   "metadata": {
    "ExecuteTime": {
     "end_time": "2024-10-01T13:55:43.472573Z",
     "start_time": "2024-10-01T13:55:43.350574Z"
    }
   },
   "cell_type": "code",
   "source": [
    "psi0 = real_space_wave_packet(N_atoms)\n",
    "psi0 = Qobj(np.concatenate((psi0, np.zeros(2 * N_atoms))))\n",
    "\n",
    "N_atoms = N_atoms * 3"
   ],
   "id": "507fe97e058d89",
   "outputs": [],
   "execution_count": 101
  },
  {
   "metadata": {
    "ExecuteTime": {
     "end_time": "2024-10-01T13:56:12.381572Z",
     "start_time": "2024-10-01T13:55:43.915578Z"
    }
   },
   "cell_type": "code",
   "source": [
    "dipoles = [dipole_vector(optimal_angle) for _ in range(N_atoms)]\n",
    "k_values = np.linspace(- np.pi/fixed_dist_ext, np.pi/fixed_dist_ext, N_atoms)\n",
    "pos = topo_positions_only_1_inner(optimal_distance_in, N_atoms)\n",
    "t_max   = N_atoms // 4 # End Time\n",
    "times = np.linspace(0, t_max, t_max * 1) * fixed_gamma\n",
    "\n",
    "y1, y2 = survival_probabilities(times, dipoles, psi0, N_atoms)"
   ],
   "id": "eb24a3e9325a4b94",
   "outputs": [],
   "execution_count": 102
  },
  {
   "metadata": {
    "ExecuteTime": {
     "end_time": "2024-10-01T13:56:14.490573Z",
     "start_time": "2024-10-01T13:56:12.384572Z"
    }
   },
   "cell_type": "code",
   "source": "PLOT_REAL_EVO()",
   "id": "d6d527a38b76f9a",
   "outputs": [
    {
     "name": "stderr",
     "output_type": "stream",
     "text": [
      "C:\\Users\\Leopold\\AppData\\Local\\Temp\\ipykernel_4284\\141164928.py:342: UserWarning: This figure includes Axes that are not compatible with tight_layout, so results might be incorrect.\n",
      "  plt.savefig(os.path.join(output_dir, figure_name))\n",
      "C:\\Users\\Leopold\\AppData\\Local\\Temp\\ipykernel_4284\\141164928.py:342: UserWarning: This figure was using constrained_layout, but that is incompatible with subplots_adjust and/or tight_layout; disabling constrained_layout.\n",
      "  plt.savefig(os.path.join(output_dir, figure_name))\n",
      "C:\\Users\\Leopold\\anaconda3\\Lib\\site-packages\\IPython\\core\\pylabtools.py:152: UserWarning: This figure includes Axes that are not compatible with tight_layout, so results might be incorrect.\n",
      "  fig.canvas.print_figure(bytes_io, **kw)\n"
     ]
    },
    {
     "data": {
      "text/plain": [
       "<Figure size 400x400 with 3 Axes>"
      ],
      "image/png": "[encoded data removed]"
     },
     "metadata": {
      "needs_background": "light"
     },
     "output_type": "display_data"
    }
   ],
   "execution_count": 103
  },
  {
   "metadata": {
    "ExecuteTime": {
     "end_time": "2024-10-01T13:55:13.814574Z",
     "start_time": "2024-10-01T13:55:13.799573Z"
    }
   },
   "cell_type": "code",
   "source": [
    "#\n",
    "# Analyze Reflection and Transmission coefficients\n",
    "#\n",
    "\n",
    "# Define time and indices\n",
    "N_chain = N_atoms // 3\n",
    "# Find the index closest to the target time\n",
    "T = 10\n",
    "time_idx = np.argmin(np.abs(times - T))\n",
    "# Extract the probabilities at the initial time (time = 0)\n",
    "initial_probabilities = y1[0, :]\n",
    "\n",
    "# Extract the probabilities at the target time\n",
    "probabilities_at_target_time = y1[time_idx, :]\n",
    "\n",
    "# Calculate the initial probability in the first N_chain states (should be ~1 initially)\n",
    "initial_prob_first_third = initial_probabilities[:N_chain].sum()\n",
    "\n",
    "# Reflection coefficient: Probability in the first N_chain states at target time\n",
    "prob_first_third = probabilities_at_target_time[:N_chain].sum()\n",
    "\n",
    "# Transmission coefficient: Probability in the second N_chain states at target time\n",
    "prob_second_third = probabilities_at_target_time[N_chain:2 * N_chain].sum()\n",
    "\n",
    "prob_third_third = probabilities_at_target_time[2 * N_chain:].sum()\n",
    "\n",
    "# Calculate the reflection and transmission coefficients as ratios\n",
    "reflection_coeff = prob_first_third / initial_prob_first_third\n",
    "transmission_coeff = prob_second_third / initial_prob_first_third\n",
    "\n",
    "print(f\"Reflection Coefficient at time {T}: {(reflection_coeff * 100):3f}\")\n",
    "print(f\"Transmission Coefficient at time {T}: {(transmission_coeff * 100):3f}\")\n",
    "print(f\"leackage into lower arm at {T}: {(prob_third_third / initial_prob_first_third * 100):3f}\")"
   ],
   "id": "29aa57dffa095070",
   "outputs": [
    {
     "name": "stdout",
     "output_type": "stream",
     "text": [
      "Reflection Coefficient at time 10: 21.956416\n",
      "Transmission Coefficient at time 10: 72.215814\n",
      "leackage into lower arm at 10: 1.278827\n"
     ]
    }
   ],
   "execution_count": 99
  },
  {
   "metadata": {},
   "cell_type": "code",
   "source": "",
   "id": "4e88fe4209158c05",
   "outputs": [],
   "execution_count": null
  }
 ],
 "metadata": {
  "kernelspec": {
   "display_name": "Python 3 (ipykernel)",
   "language": "python",
   "name": "python3"
  },
  "language_info": {
   "codemirror_mode": {
    "name": "ipython",
    "version": 3
   },
   "file_extension": ".py",
   "mimetype": "text/x-python",
   "name": "python",
   "nbconvert_exporter": "python",
   "pygments_lexer": "ipython3",
   "version": "3.8.18"
  }
 },
 "nbformat": 4,
 "nbformat_minor": 5
}
